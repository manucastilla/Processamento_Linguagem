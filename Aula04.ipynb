{
 "cells": [
  {
   "cell_type": "code",
   "execution_count": 4,
   "metadata": {},
   "outputs": [],
   "source": [
    "import re"
   ]
  },
  {
   "cell_type": "code",
   "execution_count": 7,
   "metadata": {},
   "outputs": [],
   "source": [
    "texto =\"o jogador \""
   ]
  },
  {
   "cell_type": "code",
   "execution_count": null,
   "metadata": {},
   "outputs": [],
   "source": [
    "#look ahead look behind nao consome a frase"
   ]
  },
  {
   "cell_type": "markdown",
   "metadata": {},
   "source": [
    "# Backtracking"
   ]
  },
  {
   "cell_type": "markdown",
   "metadata": {},
   "source": [
    "https://www.regular-expressions.info/catastrophic.html"
   ]
  },
  {
   "cell_type": "code",
   "execution_count": 8,
   "metadata": {},
   "outputs": [
    {
     "ename": "NameError",
     "evalue": "name 'test_string' is not defined",
     "output_type": "error",
     "traceback": [
      "\u001b[1;31m---------------------------------------------------------------------------\u001b[0m",
      "\u001b[1;31mNameError\u001b[0m                                 Traceback (most recent call last)",
      "\u001b[1;32m<ipython-input-8-20ad0ab53de6>\u001b[0m in \u001b[0;36m<module>\u001b[1;34m\u001b[0m\n\u001b[1;32m----> 1\u001b[1;33m \u001b[0mtest_string\u001b[0m\u001b[1;33m\u001b[0m\u001b[1;33m\u001b[0m\u001b[0m\n\u001b[0m",
      "\u001b[1;31mNameError\u001b[0m: name 'test_string' is not defined"
     ]
    }
   ],
   "source": [
    "test_string"
   ]
  },
  {
   "cell_type": "code",
   "execution_count": null,
   "metadata": {},
   "outputs": [],
   "source": [
    "pattern = r'x+x+y'"
   ]
  },
  {
   "cell_type": "code",
   "execution_count": null,
   "metadata": {},
   "outputs": [],
   "source": [
    "import re\n",
    "matcher = re.compile(pattern)"
   ]
  },
  {
   "cell_type": "code",
   "execution_count": 27,
   "metadata": {},
   "outputs": [
    {
     "name": "stdout",
     "output_type": "stream",
     "text": [
      "Wall time: 7.85 s\n"
     ]
    }
   ],
   "source": [
    "%%time\n",
    "test_string = 'x'*100000\n",
    "#test_string += 'y'\n",
    "matcher.fullmatch(test_string)"
   ]
  },
  {
   "cell_type": "markdown",
   "metadata": {},
   "source": [
    "# Processando textos reais"
   ]
  },
  {
   "cell_type": "markdown",
   "metadata": {},
   "source": [
    "Vamos trabalhar com um conjunto de textos obtidos da Wikipedia em portugues (https://dumps.wikimedia.org/ptwiki/20210301/). O conjunto original de dados é bem grande (1.8 GB compactado), então eu criei um arquivo reduzido da seguinte forma:\n",
    "\n",
    "- Li os registros em formato XML (é assim que estão armazenados no *dump*)\n",
    "\n",
    "- Removi todos os registros que não diziam respeito a um artigo, mas que eram referentes a redirecionamento de pagina e outras meta-informações.\n",
    "\n",
    "- Removi todos os campos de cada registro exceto titulo e corpo.\n",
    "\n",
    "- Selecionei apenas $1\\%$ dos registros restantes.\n",
    "\n",
    "- Gravei cada registro como uma linha de texto no formato JSON em um arquivo dump_small.jsonln (\"JSON lines\")\n",
    "\n",
    "Vamos ler esse arquivo e ver seu conteudo:"
   ]
  },
  {
   "cell_type": "code",
   "execution_count": 135,
   "metadata": {},
   "outputs": [
    {
     "name": "stdout",
     "output_type": "stream",
     "text": [
      "Numero de documentos: 11225\n"
     ]
    }
   ],
   "source": [
    "import json\n",
    "\n",
    "data = []\n",
    "with open('dump_small.jsonln', 'r') as file:\n",
    "    for line in file:\n",
    "        data.append(json.loads(line))\n",
    "        \n",
    "print(f'Numero de documentos: {len(data)}')"
   ]
  },
  {
   "cell_type": "code",
   "execution_count": 2,
   "metadata": {},
   "outputs": [
    {
     "name": "stdout",
     "output_type": "stream",
     "text": [
      "dict_keys(['title', 'body'])\n"
     ]
    }
   ],
   "source": [
    "print(data[0].keys())"
   ]
  },
  {
   "cell_type": "code",
   "execution_count": 3,
   "metadata": {},
   "outputs": [
    {
     "name": "stdout",
     "output_type": "stream",
     "text": [
      "Alexandre (nome)\n"
     ]
    }
   ],
   "source": [
    "print(data[0]['title'])"
   ]
  },
  {
   "cell_type": "code",
   "execution_count": 11,
   "metadata": {},
   "outputs": [
    {
     "name": "stdout",
     "output_type": "stream",
     "text": [
      "{{Multitag|mnot|rev|data=outubro de 2019}}\n",
      "{{Info/Nome\n",
      "|imagem= Napoli BW 2013-05-16 16-24-01.jpg\n",
      "|legenda= [[Alexandre, o Grande]], uma das pessoas notórias de nome '''Alexandre'''.\n",
      "|gênero= Masculino\n",
      "|significado= Protetor do Homem\n",
      "|origem= Do [[Língua grega|grego]] Αλέξανδρος\n",
      "|relativos= Alex; Alexander; Alessandro; Sandro\n",
      "}}\n",
      "'''Alexandre''' é um [[prenome]] popular da [[língua portuguesa]]. É [[cognato]] ao nome [[Alexander]], da [[língua inglesa]]. Em [[países lusófonos]], pessoas chamadas Alexandre são normalmente [[Alcunha|apelidadas]] de [[Alex]].\n",
      "\n",
      "== Origem ==\n",
      "O nome deriva do [[latim]] ''Alexander'', [[romanização]] do nome [[Língua grega|grego]] Αλέξανδρος (''Aléksandros''). [[Etimologia|Etimologicamente]], o nome seria um composto do [[verbo]] ''ἀλέξειν'' (''aléksein''), \"defender\", e o [[substantivo]] ''ἀνδρός'' (''andrós''), [[genitivo]] de ''ἀνήρ'' (''anēr''), \"homem\". Assim, pode ser traduzido como \"protetor da Humanidade\".{{carece de fontes|data=abril de 2017}}\n",
      "\n",
      "O termo seria ou um tipo raro de composto \"[[tatpurusha]] invertido\", com o modificante na segunda posição (o tatpurusha [[cognato]] em [[sânscrito]] sendo *nararakṣa, cf. [[Ramayana]] 6.33.45; o equivalente exato em sânscrito seria *rakṣinara, do [[Proto-Indo-Europeu|PIE]] ''hleks(i)-hnros'') ou um composto gasto do tipo [[terpsimbrotos]], cujo significado original seria \"ele protege os homens\".{{carece de fontes|data=abril de 2017}}\n",
      "\n",
      "O primeiro registro conhecido do nome foi feito no [[Língua grega micénica|grego micênico]]: encontrou-se a versão feminina do nome, ''Alexandra'', escrito em [[Linear B]].<ref>{{Citar web |url=http://www.geocities.com/kurogr/linearb.pdf |titulo=B0_B0_B0_B0_wi-de #e...de see |acessodata=2009-02-26 |arquivourl=https://web.archive.org/web/20080627021042/http://www.geocities.com/kurogr/linearb.pdf |arquivodata=2008-06-27 |urlmorta=yes }}</ref><ref>Chadwick, John, ''The Mycenaean World'', Nova Iorque: Imprensa da Universidade de Cambrígia, 1976, 1999.</ref>\n",
      "\n",
      "O nome era um dos títulos (\"[[epíteto]]s\") dados à [[Divindade|deusa]] [[Mitologia grega|grega]] [[Hera]]. Na ''[[Ilíada]]'', o personagem [[Páris]] também é conhecido como Alexandre. A popularidade do nome se espalhou pelo mundo grego através das conquistas militares do rei [[Alexandre, o Grande|Alexandre III]] da [[Macedónia Antiga|Macedônia]], comumente chamado de ''Alexandre, o Grande''. Posteriormente, diversos Alexandres receberam seus nomes em homenagem direta ou indireta a ele.{{carece de fontes|data=abril de 2017}}\n",
      "\n",
      "Na [[Rússia]] o nome era razoavelmente raro até o período do [[czar]] [[Alexandre I da Rússia]], a partir do qual se tornou um dos primeiros nomes mais comuns do país, ganhando um número considerável de variações e abreviações.{{carece de fontes|data=abril de 2017}}\n",
      "\n",
      "== Variações em outros idiomas ==\n",
      "* [[Língua albanesa|Albanês]] – Aleksandër, Aleks, Leka i Madh, Lekë (no norte da Albânia), Sandër, Skëndër, Skander (ver [[Skanderbeg]])\n",
      "* [[Língua amárica|Amárico]] – Eskender\n",
      "* [[Língua árabe|Árabe]] – الاسكندر / اسكندر (Iskandar), Skandar, Skender\n",
      "* [[Língua bielorrussa|Bielorrusso]] – Аляксандp (Aliaksandr), Алeсь (Ales'), Алелька (Alyel'ka)\n",
      "* [[Língua catalã|Catalão]] – Alexandre, Àlex, Xandre\n",
      "* [[Língua inglesa|Inglês]] – Alexander, Alec, Alex, Sandy, Andy, Alexis, Alexa, Sandra, Xander\n",
      "* [[Língua gaélica escocesa|Gaélico escocês]] – Alasdair, Alastair, Alistair, Alisdair\n",
      "* [[Língua galega|Galego]] – Alexandre, Álex\n",
      "* [[Língua georgiana|Georgiano]] – ალექსანდრე (Alexandre), ალეკო (Aleko), ლექსო (Lekso), სანდრო (Sandro)\n",
      "* [[Hebraico]] – אלכסנדר (Alexander)\n",
      "* [[Língua hindi|Hindi]] – [[Hindustani language|Hindustani]] – [[Sikandar]]\n",
      "* [[Língua iídiche|Iídiche]] – סענדער – Sender, Senderl\n",
      "* [[Língua irlandesa|Irlandês]] – Alasandar\n",
      "* [[Língua italiana|Italiano]] – Alessandro, Leandro, Ale, Sandro, Alessio, Lissandro\n",
      "* [[Língua malaia|Malaio]] – Iskandar\n",
      "* [[Língua malaiala]] – ചാണ്ടി (Chandy)\n",
      "* [[Língua maltesa|Maltês]] – Lixandru\n",
      "* [[Língua quirguiz|Quirguiz]] – Искендер (İskender)\n",
      "* [[Língua persa|Persa]] – اسكندر (Eskandar)\n",
      "* [[Língua russa|Russo]] — Александр (Alexandr)\n",
      "* [[Sânscrito]] – Alekchendra\n",
      "* [[Língua ucraniana|Ucraniano]] — Олександр (Oleksandr)\n",
      "* [[Língua urdu|Urdu]] – İskender, [[Sikandar]], [[Sikander]] (\"Sikander-e-Azam\" é \"Alexandre, o Grande\")\n",
      "* [[Língua uzbeque|Uzbeque]] – Iskandar\n",
      "* [[Língua turca|Turco]] - Iskander\n",
      "\n",
      "== Pessoas ==\n",
      "* [[Alexandre de Afrodísias]], filósofo da [[Escola peripatética]]\n",
      "* [[Alexandre, o Grande|Alexandre]] da [[Macedónia (história)|Macedônia]].\n",
      "* [[Alexandre de Gusmão]]\n",
      "* [[Alexandre Balas]]\n",
      "* [[Alexandre de Mindos]]\n",
      "* [[Alexandre da Iugoslávia|Alexandre I da Iugoslávia]]\n",
      "* [[Alexandre II Karadjordjevitch]] - chefe da Casa de Karađorđević da [[Sérvia]]\n",
      "* Papa Alexandre - cognome de vários papas, como [[Papa Alexandre I|Santo Alexandre]]\n",
      "* Alexandre da Rússia - cognome de vários imperadores da Rússia ([[Alexandre I da Rússia]],  [[Alexandre II da Rússia]],  [[Alexandre III da Rússia]])\n",
      "* Alexandre da Escócia - cognome de vários reis da Escócia ([[Alexandre I da Escócia]],  [[Alexandre II da Escócia]],  [[Alexandre III da Escócia]])\n",
      "* [[Alexis II (patriarca de Moscou)]]\n",
      "* [[Santo Alexandre]] - cognome de vários santos e mártires\n",
      "\n",
      "== Filmes ==\n",
      "* ''[[Alexander the Great|Alexandre, o Grande]]'' - co-produção hispano-estadunidense de 1956.\n",
      "* ''[[Alexander (filme)|Alexandre]]'' - produção estadunidense de [[2004]].\n",
      "\n",
      "{{Referências}}\n",
      "\n",
      "{{Controle de autoridade}}\n",
      "\n",
      "[[Categoria:Prenomes]]\n"
     ]
    }
   ],
   "source": [
    "print(data[0]['body'])"
   ]
  },
  {
   "cell_type": "markdown",
   "metadata": {},
   "source": [
    "---\n",
    "\n",
    "Como vocês podem ver, o texto está cheio de caracteres de estruturação de documento."
   ]
  },
  {
   "cell_type": "markdown",
   "metadata": {},
   "source": [
    "---\n",
    "\n",
    "**Atividade:** Consulte a documentação da Wikipedia para descobrir o que são as marcações `[[`, `]]`, `{{` e ```}}```"
   ]
  },
  {
   "cell_type": "markdown",
   "metadata": {},
   "source": [
    "**R:** \n",
    "https://en.wikipedia.org/wiki/Help:Wikitext\n",
    "\n",
    "\n",
    "- [[ ]] => link para outra página da Wikipédia (fazer um hiperlink)\n",
    "- {{ }} => são templates que substitui por rum html desejado"
   ]
  },
  {
   "cell_type": "markdown",
   "metadata": {},
   "source": [
    "---"
   ]
  },
  {
   "cell_type": "markdown",
   "metadata": {},
   "source": [
    "Vamos explorar o corpus para minerar itens de interesse."
   ]
  },
  {
   "cell_type": "markdown",
   "metadata": {},
   "source": [
    "**Exercicio:** Faça uma função que retorna uma lista com todos os links html de um texto deste corpus."
   ]
  },
  {
   "cell_type": "code",
   "execution_count": 144,
   "metadata": {},
   "outputs": [],
   "source": [
    "def links_html(data):\n",
    "    list_link = []\n",
    "    href = re.compile(r\"(?<=\\[\\[).*(?=\\]\\])\")  \n",
    "    matches = href.finditer(data)\n",
    "    for match in matches:\n",
    "        list_link.append(match.group())\n",
    "        \n",
    "    return list_link\n",
    "        \n",
    "# links_html(data[0][\"body\"])"
   ]
  },
  {
   "cell_type": "markdown",
   "metadata": {},
   "source": [
    "**Exercicio:** Faça uma função que recebe um texto do corpus e substitui todas as ocorrências de links da Wikipedia (textos entre os tags `[[` e `]]`) por texto simples, e retorna o documento limpo. Por exemplo, quando encontrar algo como `[[Etimologia|Etimologicamente]]` substituir por `Etimologicamente`. Você pode supor que os links não são *aninháveis*, como por exemplo `[[blablabla[[etc]]blebleble]]`."
   ]
  },
  {
   "cell_type": "code",
   "execution_count": 138,
   "metadata": {},
   "outputs": [],
   "source": [
    "def clean_doc(data):\n",
    "    href = re.compile(r\"\\[\\[(?!.+?:)([^\\]\\[]+)\\|([^\\]\\[]+)\\]\\]\")\n",
    "    matches = href.finditer(data)\n",
    "    for match in matches:\n",
    "        data= data.replace(match.group(), match.group(2))\n",
    "    return data\n",
    "\n",
    "# clean_doc(data[0][\"body\"])"
   ]
  },
  {
   "cell_type": "markdown",
   "metadata": {},
   "source": [
    "**Exercicio**: Faça uma função que recebe um texto do corpus e remove todas as ocorrências de referências (textos entre os tags `<ref>` e `</ref>`)."
   ]
  },
  {
   "cell_type": "code",
   "execution_count": null,
   "metadata": {},
   "outputs": [],
   "source": [
    "dado = data[0][\"body\"]"
   ]
  },
  {
   "cell_type": "code",
   "execution_count": 143,
   "metadata": {},
   "outputs": [],
   "source": [
    "def clean_ref(dado):\n",
    "    ref = re.compile(r\"(?<=.)<ref>.*</ref>(?=)\")\n",
    "    matches = ref.finditer(dado)\n",
    "    for match in matches:\n",
    "        dado= dado.replace(match.group(), \"\")\n",
    "    return dado\n",
    "\n",
    "# clean_ref(data[0][\"body\"])"
   ]
  },
  {
   "cell_type": "markdown",
   "metadata": {},
   "source": [
    "**Exercicio:** Faça uma função que recebe um texto do corpus e remove todos os templates (textos entre os tags `{{` e `}}`). Este exercício é desafiante: *os templates podem ser aninhados*! E agora, como proceder?"
   ]
  },
  {
   "cell_type": "code",
   "execution_count": null,
   "metadata": {},
   "outputs": [],
   "source": []
  },
  {
   "cell_type": "markdown",
   "metadata": {},
   "source": [
    "**Exercicio:** Usando os codigos desenvolvidos acima, faça uma função que recebe um texto do corpus e retorna a sua versão limpa."
   ]
  },
  {
   "cell_type": "code",
   "execution_count": null,
   "metadata": {},
   "outputs": [],
   "source": []
  },
  {
   "cell_type": "markdown",
   "metadata": {},
   "source": [
    "**Exercicio:** Limpe todos os documentos e explore os resultados para ver o que mais dá para limpar. Nosso objetivo é ter uma coletânea de textos limpos para poder criar um vocabulário da língua portuguesa!"
   ]
  },
  {
   "cell_type": "code",
   "execution_count": null,
   "metadata": {},
   "outputs": [],
   "source": []
  },
  {
   "cell_type": "markdown",
   "metadata": {},
   "source": [
    "# Criando um tokenizador"
   ]
  },
  {
   "cell_type": "markdown",
   "metadata": {},
   "source": [
    "Agora que temos um conjunto de documentos limpos, vamos analisar esses documentos para:\n",
    "\n",
    "- Separar os documentos em palavras\n",
    "\n",
    "- Separar os documentos em frases"
   ]
  },
  {
   "cell_type": "markdown",
   "metadata": {},
   "source": [
    "**Exercicio:** Faça uma função que separa os documentos em palavras usando simplesmente os espaços em branco como indicador de separação."
   ]
  },
  {
   "cell_type": "code",
   "execution_count": 146,
   "metadata": {},
   "outputs": [],
   "source": [
    "\n",
    "documents = data[0]['body']\n",
    "\n",
    "def separaEspaco(texto):\n",
    "    palavras = texto.split(' ')\n",
    "    return palavras\n",
    "# separaEspaco(documents)"
   ]
  },
  {
   "cell_type": "markdown",
   "metadata": {},
   "source": [
    "**Exercicio:** Agora analise os resultados obtidos: essa separação em palavras está perfeita? Certamente não:\n",
    "\n",
    "- Um problema óbvio é o seguinte: palavras ao final de uma sentença podem carregar consigo a pontuação da frase. \n",
    "\n",
    "- Mais ainda, algumas palavras no meio das sentenças podem ter vírgula e ponto-e-vírgula juntos.\n",
    "\n",
    "- Sequências de emojis podem aparecer, e cada emoji deve ser considerado como uma palavra separada\n",
    "\n",
    "Faça uma função que recebe um documento e faz uma separação melhor."
   ]
  },
  {
   "cell_type": "code",
   "execution_count": 148,
   "metadata": {},
   "outputs": [],
   "source": [
    "def separacaoMelhor(comPontuacao):\n",
    "    semPontuacao = []\n",
    "    for palavra in comPontuacao:\n",
    "        palavrasSemPontuacao = re.sub(r\"[^\\w\\s]|\\n\", \"\", palavra)\n",
    "        semPontuacao.append(palavrasSemPontuacao)\n",
    "    return semPontuacao\n",
    "\n",
    "# separacaoMelhor(separaEspaco(documents))\n"
   ]
  },
  {
   "cell_type": "code",
   "execution_count": null,
   "metadata": {},
   "outputs": [],
   "source": []
  }
 ],
 "metadata": {
  "kernelspec": {
   "display_name": "Python 3",
   "language": "python",
   "name": "python3"
  },
  "language_info": {
   "codemirror_mode": {
    "name": "ipython",
    "version": 3
   },
   "file_extension": ".py",
   "mimetype": "text/x-python",
   "name": "python",
   "nbconvert_exporter": "python",
   "pygments_lexer": "ipython3",
   "version": "3.8.4"
  }
 },
 "nbformat": 4,
 "nbformat_minor": 5
}
