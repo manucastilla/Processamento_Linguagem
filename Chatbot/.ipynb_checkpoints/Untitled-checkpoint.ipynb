{
 "cells": [
  {
   "cell_type": "code",
   "execution_count": 19,
   "metadata": {},
   "outputs": [],
   "source": [
    "import pandas as pd\n",
    "from nltk import word_tokenize\n",
    "from tqdm import tqdm\n",
    "import re\n",
    "\n",
    "df = pd.read_excel(\"Pasta1.xlsx\")"
   ]
  },
  {
   "cell_type": "code",
   "execution_count": 20,
   "metadata": {},
   "outputs": [
    {
     "name": "stdout",
     "output_type": "stream",
     "text": [
      "['qual', 'o', 'meu', 'saldo', 'me', 'diga', 'meu', 'saldo', 'qual', 'o', 'meu', 'saldo', 'quanto', 'estou', 'devendo', 'no', 'banco', 'foxbot', 'quanto', 'tem', 'na', 'minha', 'conta', 'saldo', 'quanto', 'dinheiro', 'tenho', 'em', 'minha', 'conta', 'foxbot', 'qual', 'é', 'o', 'meu', 'saldo', 'extrato', 'quanto', 'dinheiro', 'eu', 'tenho', 'qual', 'era', 'o', 'meu', 'saldo', 'ontem', 'foxbot', 'saldo', 'da', 'conta', 'foxbot', 'quanto', 'tenho', 'na', 'conta', 'quantos', 'reais', 'tenho', 'em', 'minha', 'conta', 'consigo', 'comprar', 'uma', 'televisão', 'nova', 'qual', 'meu', 'saldo', 'bancário', 'quanto', 'dinheiro', 'tenho', 'quanto', 'eu', 'dinheiro', 'tenho', 'foxbot', 'quanta', 'grana', 'eu', 'tenho', 'foxbot', 'quanto', 'posso', 'gastar', 'minha', 'conta', 'bancária', 'está', 'vazia', 'minha', 'conta', 'está', 'negativa', 'foxbot', 'diz', 'aí', 'quanto', 'dinheiro', 'eu', 'tenho', 'foxbot', 'estou', 'negativado', 'quanto', 'tenho', 'de', 'din', 'qual', 'é', 'na', 'conta', 'foxbot', 'quanto', 'ainda', 'posso', 'gastar', 'foxbot', 'quanto', 'dinheiro', 'tenho', 'pra', 'gastar', 'ligue', 'a', 'luz', 'está', 'muito', 'claro', 'aumente', 'a', 'temperatura', 'foxbot', 'apague', 'a', 'luz', 'estou', 'com', 'frio', 'desligue', 'a', 'luz', 'acenda', 'a', 'luz', 'foxbot', 'bom', 'dia', 'liga', 'as', 'luzes', 'deixe', 'o', 'ambiente', 'mais', 'quente', 'foxbot', 'apaga', 'a', 'luz', 'aí', 'diminua', 'a', 'temperatura', 'ligar', 'luz', 'qual', 'a', 'temperatura', 'do', 'ar', 'condicionado', 'desligue', 'todos', 'os', 'dispositivos', 'quantos', 'graus', 'está', 'o', 'ar', 'condicionado', 'ligue', 'a', 'luz', 'acenda', 'a', 'luz', 'está', 'muito', 'frio', 'está', 'muito', 'quente', 'diminua', 'a', 'temperatura', 'qual', 'é', 'a', 'temperatura', 'do', 'quarto', 'está', 'muito', 'escuro', 'luz', 'luz', 'está', 'escuro', 'em', 'aumente', 'a', 'temperatura', 'do', 'ar', 'condicionado', 'para', 'graus', 'desligar', 'luz', 'está', 'escuro', 'aqui', 'foxbot', 'desligue', 'o', 'ar', 'está', 'muito', 'frio', 'diminua', 'a', 'temperatura', 'do', 'ar', 'condicionado', 'em', 'graus', 'foxbot', 'tô', 'com', 'frio', 'desligue', 'o', 'ar', 'foxbot', 'acordei', 'foxbot', 'estou', 'com', 'calor', 'mude', 'a', 'temperatura', 'do', 'ar', 'para', 'graus', 'foxbot', 'diminua', 'a', 'potência', 'do', 'ar', 'aí', 'foxbot', 'estou', 'passando', 'mal', 'de', 'calor', 'esta', 'muito', 'quente', 'foxbot', 'lumus', 'temperatura', 'minima', 'do', 'ac', 'foxbot', 'tenho', 'medo', 'do', 'escuro', 'diminua', 'a', 'temperatura', 'foxbot', 'ligar', 'tudo', 'aumente', 'a', 'temperatura', 'ligue', 'o', 'refrigerador', 'de', 'ambiente', 'foxbot', 'esta', 'frio', 'aqui', 'dentro', 'aumente', 'o', 'ar', 'diminua', 'o', 'ar', 'vai', 'chover', 'qual', 'o', 'clima', 'amanhã', 'qual', 'a', 'temperatura', 'vai', 'fazer', 'sol', 'hoje', 'foxbot', 'vai', 'tá', 'quente', 'hoje', 'vai', 'fazer', 'frio', 'hoje', 'qual', 'a', 'previsão', 'do', 'tempo', 'vai', 'chover', 'está', 'chovendo', 'qual', 'a', 'previsão', 'do', 'tempo', 'para', 'hoje', 'devo', 'usar', 'um', 'casaco', 'foxbot', 'esta', 'calor', 'está', 'nublado', 'hoje', 'devo', 'usar', 'uma', 'regata', 'preciso', 'levar', 'um', 'vai', 'chover', 'qual', 'a', 'temperatura', 'máxima', 'para', 'a', 'semana', 'foxbot', 'preciso', 'de', 'um', 'foxbot', 'devo', 'levar', 'capa', 'de', 'chuva', 'preciso', 'de', 'um', 'guarda', 'chuva', 'hoje', 'qual', 'a', 'temperatura', 'mínima', 'para', 'a', 'semana', 'vai', 'chover', 'foxbot', 'vai', 'nevar', 'hoje', 'amanhã', 'vai', 'fazer', 'calor', 'como', 'estará', 'o', 'clima', 'na', 'dia', 'da', 'semana', 'vai', 'fazer', 'sol', 'hoje', 'preciso', 'levar', 'um', 'casaco', 'foxbot', 'está', 'calor', 'qual', 'é', 'a', 'chance', 'de', 'chover', 'hoje', 'está', 'quente', 'foxbot', 'está', 'frio', 'aqui', 'dentro', 'está', 'frio', 'quanto', 'graus', 'está', 'lá', 'fora', 'qual', 'o', 'clima', 'de', 'hoje', 'foxbot', 'posso', 'ir', 'pra', 'praia', 'no', 'fim', 'de', 'semana', 'foxbot', 'piscina', 'hoje', 'foxbot', 'rola', 'um', 'piscininha', 'hoje', 'qual', 'será', 'o', 'clima', 'de', 'terça', 'feira', 'que', 'vem', 'qual', 'é', 'o', 'clima', 'da', 'próxima', 'quinta', 'feira']\n"
     ]
    }
   ],
   "source": [
    "def tokeniza(texto):\n",
    "    return texto.lower().split()\n",
    "\n",
    "df[\"Column3\"].apply(tokeniza)\n",
    "\n",
    "tokens = []\n",
    "\n",
    "for i in df[\"Column3\"]:\n",
    "    token = word_tokenize(i)\n",
    "    tokens = tokens + token\n",
    "\n",
    "tokens = [w for w in tokens if re.fullmatch('\\w+', w)]\n",
    "\n",
    "def minusculas(tokens):\n",
    "    return [token.lower() for token in tokens]\n",
    "\n",
    "def remove_digitos(tokens):\n",
    "    return [token for token in tokens if re.fullmatch('[^\\d]*', token)]\n",
    "\n",
    "def pega_palavras(tokens):\n",
    "    return [token for token in tokens if re.fullmatch('\\w+', token)]\n",
    "    \n",
    "def limpa_tokens(tokens):\n",
    "    tokens = minusculas(tokens)\n",
    "    tokens = remove_digitos(tokens)\n",
    "    tokens = pega_palavras(tokens)    \n",
    "    return tokens\n",
    "\n",
    "tokens = limpa_tokens(tokens)\n",
    "print(tokens)"
   ]
  },
  {
   "cell_type": "code",
   "execution_count": null,
   "metadata": {},
   "outputs": [],
   "source": []
  }
 ],
 "metadata": {
  "kernelspec": {
   "display_name": "Python 3",
   "language": "python",
   "name": "python3"
  },
  "language_info": {
   "codemirror_mode": {
    "name": "ipython",
    "version": 3
   },
   "file_extension": ".py",
   "mimetype": "text/x-python",
   "name": "python",
   "nbconvert_exporter": "python",
   "pygments_lexer": "ipython3",
   "version": "3.8.0"
  }
 },
 "nbformat": 4,
 "nbformat_minor": 4
}
