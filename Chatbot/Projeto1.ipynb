{
 "cells": [
  {
   "cell_type": "code",
   "execution_count": 1,
   "metadata": {},
   "outputs": [],
   "source": [
    "import pandas as pd\n",
    "from nltk import word_tokenize\n",
    "from tqdm import tqdm\n",
    "import re"
   ]
  },
  {
   "cell_type": "code",
   "execution_count": 2,
   "metadata": {},
   "outputs": [],
   "source": [
    "df = pd.read_excel(\"sentencas.xlsx\")"
   ]
  },
  {
   "cell_type": "code",
   "execution_count": 10,
   "metadata": {},
   "outputs": [
    {
     "output_type": "execute_result",
     "data": {
      "text/plain": [
       "                                   Intenção           Sentença\n",
       "0                  Consultar saldo da conta   qual o meu saldo\n",
       "1  Interagir com a luz ou o ar-condicionado        ligue a luz\n",
       "2                  Consultar saldo da conta  me diga meu saldo"
      ],
      "text/html": "<div>\n<style scoped>\n    .dataframe tbody tr th:only-of-type {\n        vertical-align: middle;\n    }\n\n    .dataframe tbody tr th {\n        vertical-align: top;\n    }\n\n    .dataframe thead th {\n        text-align: right;\n    }\n</style>\n<table border=\"1\" class=\"dataframe\">\n  <thead>\n    <tr style=\"text-align: right;\">\n      <th></th>\n      <th>Intenção</th>\n      <th>Sentença</th>\n    </tr>\n  </thead>\n  <tbody>\n    <tr>\n      <th>0</th>\n      <td>Consultar saldo da conta</td>\n      <td>qual o meu saldo</td>\n    </tr>\n    <tr>\n      <th>1</th>\n      <td>Interagir com a luz ou o ar-condicionado</td>\n      <td>ligue a luz</td>\n    </tr>\n    <tr>\n      <th>2</th>\n      <td>Consultar saldo da conta</td>\n      <td>me diga meu saldo</td>\n    </tr>\n  </tbody>\n</table>\n</div>"
     },
     "metadata": {},
     "execution_count": 10
    }
   ],
   "source": [
    "df.head(3)"
   ]
  },
  {
   "source": [
    "### Limpando o dataset"
   ],
   "cell_type": "markdown",
   "metadata": {}
  },
  {
   "cell_type": "code",
   "execution_count": 9,
   "metadata": {},
   "outputs": [],
   "source": [
    "def limpa_tudo(df):\n",
    "    #removendo minusculas\n",
    "    df = df.lower()\n",
    "    #remove todos os símbolos exceto $\n",
    "    df = re.sub(r\"\\W\", \" \",df)\n",
    "    #tirar o foxbot\n",
    "    df = df.replace(\"foxbot\", \"\")\n",
    "    return df\n",
    "\n",
    "df[\"Sentença\"] = df[\"Sentença\"].apply(limpa_tudo)"
   ]
  },
  {
   "source": [
    "### Separar em dataset de treinamento e teste"
   ],
   "cell_type": "markdown",
   "metadata": {}
  },
  {
   "cell_type": "code",
   "execution_count": 11,
   "metadata": {},
   "outputs": [],
   "source": [
    "#dividir teste e treinamento o dataframe \n",
    "from sklearn.model_selection import train_test_split\n",
    "\n",
    "X_train, X_test, y_train, y_test = train_test_split(df[\"Sentença\"], df[\"Intenção\"],test_size=0.2, random_state=42)"
   ]
  },
  {
   "source": [
    "### Classificador naïve-Bayes"
   ],
   "cell_type": "markdown",
   "metadata": {}
  },
  {
   "cell_type": "code",
   "execution_count": 13,
   "metadata": {},
   "outputs": [],
   "source": [
    "from sklearn.feature_extraction.text import CountVectorizer\n",
    "vectorizer = CountVectorizer()\n",
    "X = vectorizer.fit_transform(X_train)"
   ]
  },
  {
   "cell_type": "code",
   "execution_count": 16,
   "metadata": {},
   "outputs": [
    {
     "output_type": "execute_result",
     "data": {
      "text/plain": [
       "MultinomialNB()"
      ]
     },
     "metadata": {},
     "execution_count": 16
    }
   ],
   "source": [
    "from sklearn.naive_bayes import MultinomialNB\n",
    "model = MultinomialNB()\n",
    "model.fit(X, y_train)"
   ]
  },
  {
   "cell_type": "code",
   "execution_count": 21,
   "metadata": {},
   "outputs": [
    {
     "output_type": "execute_result",
     "data": {
      "text/plain": [
       "0.82"
      ]
     },
     "metadata": {},
     "execution_count": 21
    }
   ],
   "source": [
    "from sklearn.metrics import accuracy_score\n",
    "\n",
    "countsTest = vectorizer.transform(X_test)\n",
    "\n",
    "y_pred = model.predict(countsTest)\n",
    "round(accuracy_score(y_test, y_pred), 2)\n"
   ]
  },
  {
   "cell_type": "code",
   "execution_count": null,
   "metadata": {},
   "outputs": [],
   "source": []
  },
  {
   "cell_type": "code",
   "execution_count": null,
   "metadata": {},
   "outputs": [],
   "source": []
  },
  {
   "cell_type": "code",
   "execution_count": null,
   "metadata": {},
   "outputs": [],
   "source": []
  },
  {
   "cell_type": "code",
   "execution_count": 35,
   "metadata": {},
   "outputs": [],
   "source": [
    "df = pd.read_excel(\"Pasta1.xlsx\")\n",
    "\n",
    "\n",
    "def tokeniza(texto):\n",
    "    return texto.lower().split()\n",
    "\n",
    "df[\"Column3\"].apply(tokeniza)\n",
    "\n",
    "tokens = []\n",
    "\n",
    "for i in df[\"Column3\"]:\n",
    "    token = word_tokenize(i)\n",
    "    tokens = tokens + token\n",
    "\n",
    "# tokens = [w for w in tokens if re.fullmatch('\\w+', w)]\n",
    "\n",
    "# def minusculas(tokens):\n",
    "#     return [token.lower() for token in tokens]\n",
    "\n",
    "# def remove_digitos(tokens):\n",
    "#     return [token for token in tokens if re.fullmatch('[^\\d]*', token)]\n",
    "\n",
    "# def pega_palavras(tokens):\n",
    "#     return [token for token in tokens if re.fullmatch('\\w+', token)]\n",
    "    \n",
    "# def limpa_tokens(tokens):\n",
    "#     tokens = minusculas(tokens)\n",
    "#     tokens = remove_digitos(tokens)\n",
    "#     tokens = pega_palavras(tokens)    \n",
    "#     return tokens\n",
    "\n",
    "# tokens = limpa_tokens(tokens)\n",
    "# print(tokens)"
   ]
  },
  {
   "cell_type": "code",
   "execution_count": null,
   "metadata": {},
   "outputs": [],
   "source": []
  }
 ],
 "metadata": {
  "kernelspec": {
   "name": "python384jvsc74a57bd09d62803a1cbd2182104a1183605f86308b1943107a6ea7d89939a22c783e6f48",
   "display_name": "Python 3.8.4 64-bit"
  },
  "language_info": {
   "codemirror_mode": {
    "name": "ipython",
    "version": 3
   },
   "file_extension": ".py",
   "mimetype": "text/x-python",
   "name": "python",
   "nbconvert_exporter": "python",
   "pygments_lexer": "ipython3",
   "version": "3.8.4-final"
  }
 },
 "nbformat": 4,
 "nbformat_minor": 4
}