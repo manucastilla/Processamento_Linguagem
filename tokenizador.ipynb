{
 "metadata": {
  "language_info": {
   "codemirror_mode": {
    "name": "ipython",
    "version": 3
   },
   "file_extension": ".py",
   "mimetype": "text/x-python",
   "name": "python",
   "nbconvert_exporter": "python",
   "pygments_lexer": "ipython3",
   "version": "3.8.4-final"
  },
  "orig_nbformat": 2,
  "kernelspec": {
   "name": "python3",
   "display_name": "Python 3.8.4 64-bit",
   "metadata": {
    "interpreter": {
     "hash": "9d62803a1cbd2182104a1183605f86308b1943107a6ea7d89939a22c783e6f48"
    }
   }
  }
 },
 "nbformat": 4,
 "nbformat_minor": 2,
 "cells": [
  {
   "source": [
    "## Tokenizador"
   ],
   "cell_type": "markdown",
   "metadata": {}
  },
  {
   "cell_type": "code",
   "execution_count": 5,
   "metadata": {},
   "outputs": [],
   "source": [
    "import json\n",
    "import re\n",
    "import nltk\n",
    "from nltk import word_tokenize"
   ]
  },
  {
   "cell_type": "code",
   "execution_count": 4,
   "metadata": {},
   "outputs": [],
   "source": [
    "data = []\n",
    "with open('dump_small_clean.jsonln', 'r', encoding=\"utf8\") as file:\n",
    "    for line in file:\n",
    "        data.append(json.loads(line))"
   ]
  },
  {
   "cell_type": "code",
   "execution_count": 7,
   "metadata": {},
   "outputs": [],
   "source": [
    "texto = data[0]['body']\n",
    "tokens = word_tokenize(texto)\n",
    "# tokens"
   ]
  },
  {
   "cell_type": "code",
   "execution_count": 8,
   "metadata": {},
   "outputs": [],
   "source": [
    "tokens = [w for w in tokens if re.fullmatch('\\w+', w)]\n",
    "# tokens"
   ]
  },
  {
   "cell_type": "code",
   "execution_count": 10,
   "metadata": {},
   "outputs": [],
   "source": [
    "def minusculas(tokens):\n",
    "    return [token.lower() for token in tokens]\n",
    "\n",
    "def remove_digitos(tokens):\n",
    "    return [token for token in tokens if re.fullmatch('[^\\d]*', token)]\n",
    "\n",
    "def pega_palavras(tokens):\n",
    "    return [token for token in tokens if re.fullmatch('\\w+', token)]\n",
    "    \n",
    "def limpa_tokens(tokens):\n",
    "    tokens = minusculas(tokens)\n",
    "    tokens = remove_digitos(tokens)\n",
    "    tokens = pega_palavras(tokens)    \n",
    "    return tokens"
   ]
  },
  {
   "cell_type": "code",
   "execution_count": 11,
   "metadata": {},
   "outputs": [
    {
     "output_type": "stream",
     "name": "stderr",
     "text": [
      "100%|██████████| 11225/11225 [01:47<00:00, 104.27it/s]\n"
     ]
    }
   ],
   "source": [
    "from tqdm import tqdm\n",
    "\n",
    "all_words = []\n",
    "for item in tqdm(data):\n",
    "    texto = item['body']\n",
    "    tokens = word_tokenize(texto)\n",
    "    tokens = limpa_tokens(tokens)\n",
    "    all_words += tokens"
   ]
  },
  {
   "cell_type": "code",
   "execution_count": null,
   "metadata": {},
   "outputs": [],
   "source": [
    "len(all_words)"
   ]
  },
  {
   "cell_type": "code",
   "execution_count": 17,
   "metadata": {},
   "outputs": [],
   "source": [
    "def stopwords(all_words):\n",
    "    stop = nltk.corpus.stopwords.words('portuguese')\n",
    "    stop += nltk.corpus.stopwords.words('english')\n",
    "    return [w for w in all_words if w not in stop]\n",
    "\n",
    "# stopwords(all_words)"
   ]
  },
  {
   "cell_type": "code",
   "execution_count": 18,
   "metadata": {},
   "outputs": [],
   "source": [
    "from collections import Counter\n",
    "word_counts = Counter(stopwords(all_words_clean))\n",
    "word_counts_list = list(word_counts.items())\n",
    "word_counts_list_sorted = sorted(word_counts_list, key=lambda x: (-x[1], x[0]))\n",
    "#word_counts_list_sorted"
   ]
  },
  {
   "cell_type": "code",
   "execution_count": 19,
   "metadata": {},
   "outputs": [],
   "source": [
    "# from nltk import word_tokenize\n",
    "# from tqdm import tqdm\n",
    "\n",
    "# all_words_per_doc = []\n",
    "# for item in tqdm(data):\n",
    "#     texto = item['body']\n",
    "#     tokens = word_tokenize(texto)\n",
    "#     tokens = limpa_tokens(tokens)\n",
    "#     all_words_per_doc.append(tokens)"
   ]
  },
  {
   "cell_type": "code",
   "execution_count": 24,
   "metadata": {},
   "outputs": [],
   "source": [
    "# frequência\n",
    "idf = dict([(n[0], np.log(N / n[1])) for n in doc_counts_list_sorted])"
   ]
  },
  {
   "cell_type": "code",
   "execution_count": 20,
   "metadata": {},
   "outputs": [],
   "source": [
    "vocab =  word_counts_list_sorted[:3000]\n",
    "vocab = dict(vocab)"
   ]
  },
  {
   "cell_type": "code",
   "execution_count": 22,
   "metadata": {},
   "outputs": [],
   "source": [
    "LOWERCASE = [chr(x) for x in range(ord('a'), ord('z') + 1)]\n",
    "#UPPERCASE = [chr(x) for x in range(ord('A'), ord('Z') + 1)]\n",
    "\n",
    "#https://www.ascii-codes.com/cp860.html\n",
    "LOWERCASE_OTHERS = ['ç', 'á', 'â', 'ã', 'à', 'é', 'í', 'ó', 'ú', 'ê','î', 'ô', 'û', 'õ']  # etc.\n",
    "#UPPERCASE_OTHERS = [x.upper() for x in LOWERCASE_OTHERS]\n",
    "LETTERS = LOWERCASE + LOWERCASE_OTHERS "
   ]
  },
  {
   "cell_type": "code",
   "execution_count": 23,
   "metadata": {},
   "outputs": [],
   "source": [
    "def edit1(text):\n",
    "    words = []\n",
    "    \n",
    "    # Fase 1: as remoçoes.\n",
    "    for p in range(len(text)):\n",
    "        new_word = text[:p] + text[p + 1:]\n",
    "        if len(new_word) > 0:\n",
    "            words.append(new_word)\n",
    "        \n",
    "    # Fase 2: as adições.\n",
    "    for p in range(len(text) + 1):\n",
    "        for c in LETTERS:\n",
    "            new_word = text[:p] + c + text[p:]\n",
    "            words.append(new_word)\n",
    "    \n",
    "    # Fase 3: as substituições.\n",
    "    for p in range(len(text)):\n",
    "        orig_c = text[p]\n",
    "        for c in LETTERS:\n",
    "            if orig_c != c:\n",
    "                new_word = text[:p] + c + text[p + 1:]\n",
    "                words.append(new_word)\n",
    "    \n",
    "    return set(words)\n",
    "\n",
    "def edit2(text):\n",
    "    words1 = edit1(text)\n",
    "    words2 = set()\n",
    "    for w in words1:\n",
    "        candidate_words2 = edit1(w)\n",
    "        candidate_words2 -= words1\n",
    "        words2.update(candidate_words2)\n",
    "    words2 -= set([text])\n",
    "    return words2\n"
   ]
  },
  {
   "cell_type": "code",
   "execution_count": 24,
   "metadata": {},
   "outputs": [],
   "source": [
    "word = 'pars'\n",
    "if word in vocab:\n",
    "    candidatos = [word]\n",
    "else:\n",
    "    candidatos = []\n",
    "candidatos += \\\n",
    "    [w for w in edit1(word) if w in vocab] \\\n",
    "    + [w for w in edit2(word) if w in vocab] \\\n",
    "    + [word]"
   ]
  },
  {
   "cell_type": "code",
   "execution_count": null,
   "metadata": {},
   "outputs": [],
   "source": []
  }
 ]
}