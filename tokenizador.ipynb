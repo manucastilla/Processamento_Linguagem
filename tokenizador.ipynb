{
 "cells": [
  {
   "cell_type": "markdown",
   "metadata": {},
   "source": [
    "## Tokenizador"
   ]
  },
  {
   "cell_type": "code",
   "execution_count": 1,
   "metadata": {},
   "outputs": [],
   "source": [
    "import json\n",
    "import re\n",
    "import nltk\n",
    "from nltk import word_tokenize"
   ]
  },
  {
   "cell_type": "code",
   "execution_count": 2,
   "metadata": {},
   "outputs": [],
   "source": [
    "data = []\n",
    "with open('dump_small_clean.jsonln', 'r', encoding=\"utf8\") as file:\n",
    "    for line in file:\n",
    "        data.append(json.loads(line))"
   ]
  },
  {
   "cell_type": "code",
   "execution_count": 3,
   "metadata": {},
   "outputs": [],
   "source": [
    "texto = data[0]['body']\n",
    "tokens = word_tokenize(texto)\n",
    "# tokens"
   ]
  },
  {
   "cell_type": "code",
   "execution_count": 4,
   "metadata": {},
   "outputs": [],
   "source": [
    "tokens = [w for w in tokens if re.fullmatch('\\w+', w)]\n",
    "# tokens"
   ]
  },
  {
   "cell_type": "code",
   "execution_count": 5,
   "metadata": {},
   "outputs": [],
   "source": [
    "def minusculas(tokens):\n",
    "    return [token.lower() for token in tokens]\n",
    "\n",
    "def remove_digitos(tokens):\n",
    "    return [token for token in tokens if re.fullmatch('[^\\d]*', token)]\n",
    "\n",
    "def pega_palavras(tokens):\n",
    "    return [token for token in tokens if re.fullmatch('\\w+', token)]\n",
    "    \n",
    "def limpa_tokens(tokens):\n",
    "    tokens = minusculas(tokens)\n",
    "    tokens = remove_digitos(tokens)\n",
    "    tokens = pega_palavras(tokens)    \n",
    "    return tokens"
   ]
  },
  {
   "cell_type": "code",
   "execution_count": 6,
   "metadata": {},
   "outputs": [
    {
     "output_type": "stream",
     "name": "stderr",
     "text": [
      "100%|██████████| 11225/11225 [00:45<00:00, 244.41it/s]\n"
     ]
    }
   ],
   "source": [
    "from tqdm import tqdm\n",
    "\n",
    "all_words = []\n",
    "for item in tqdm(data):\n",
    "    texto = item['body']\n",
    "    tokens = word_tokenize(texto)\n",
    "    tokens = limpa_tokens(tokens)\n",
    "    all_words += tokens"
   ]
  },
  {
   "cell_type": "code",
   "execution_count": 7,
   "metadata": {},
   "outputs": [
    {
     "output_type": "execute_result",
     "data": {
      "text/plain": [
       "3866876"
      ]
     },
     "metadata": {},
     "execution_count": 7
    }
   ],
   "source": [
    "len(all_words)"
   ]
  },
  {
   "cell_type": "code",
   "execution_count": 8,
   "metadata": {},
   "outputs": [],
   "source": [
    "def stopwords(all_words):\n",
    "    stop = nltk.corpus.stopwords.words('portuguese')\n",
    "    stop += nltk.corpus.stopwords.words('english')\n",
    "    return [w for w in all_words if w not in stop]\n",
    "\n",
    "# stopwords(all_words)"
   ]
  },
  {
   "cell_type": "code",
   "execution_count": 9,
   "metadata": {},
   "outputs": [],
   "source": [
    "from collections import Counter\n",
    "word_counts = Counter(stopwords(all_words))\n",
    "word_counts_list = list(word_counts.items())\n",
    "word_counts_list_sorted = sorted(word_counts_list, key=lambda x: (-x[1], x[0]))\n",
    "#word_counts_list_sorted"
   ]
  },
  {
   "cell_type": "code",
   "execution_count": 13,
   "metadata": {
    "tags": []
   },
   "outputs": [],
   "source": [
    "vocab =  word_counts_list_sorted[:10000]\n",
    "vocab = dict(vocab)"
   ]
  },
  {
   "cell_type": "code",
   "execution_count": 12,
   "metadata": {},
   "outputs": [],
   "source": [
    "with open(\"vocab.jsonln\", \"w\") as write_file:\n",
    "    json.dump(vocab, write_file, indent=4)"
   ]
  }
 ],
 "metadata": {
  "kernelspec": {
   "name": "python384jvsc74a57bd09d62803a1cbd2182104a1183605f86308b1943107a6ea7d89939a22c783e6f48",
   "display_name": "Python 3.8.4 64-bit"
  },
  "language_info": {
   "codemirror_mode": {
    "name": "ipython",
    "version": 3
   },
   "file_extension": ".py",
   "mimetype": "text/x-python",
   "name": "python",
   "nbconvert_exporter": "python",
   "pygments_lexer": "ipython3",
   "version": "3.8.4-final"
  }
 },
 "nbformat": 4,
 "nbformat_minor": 2
}